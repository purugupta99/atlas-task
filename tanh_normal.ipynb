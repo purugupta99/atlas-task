{
 "cells": [
  {
   "cell_type": "code",
   "execution_count": 1,
   "metadata": {
    "colab": {},
    "colab_type": "code",
    "id": "g-7VnEpBoDbn"
   },
   "outputs": [
    {
     "ename": "ModuleNotFoundError",
     "evalue": "No module named 'torch'",
     "output_type": "error",
     "traceback": [
      "\u001b[0;31m---------------------------------------------------------------------------\u001b[0m",
      "\u001b[0;31mModuleNotFoundError\u001b[0m                       Traceback (most recent call last)",
      "\u001b[0;32m<ipython-input-1-4da0d1ed2c4b>\u001b[0m in \u001b[0;36m<module>\u001b[0;34m\u001b[0m\n\u001b[1;32m      6\u001b[0m \u001b[0;34m\u001b[0m\u001b[0m\n\u001b[1;32m      7\u001b[0m \u001b[0;31m# importing torch & its classes\u001b[0m\u001b[0;34m\u001b[0m\u001b[0;34m\u001b[0m\u001b[0;34m\u001b[0m\u001b[0m\n\u001b[0;32m----> 8\u001b[0;31m \u001b[0;32mimport\u001b[0m \u001b[0mtorch\u001b[0m\u001b[0;34m\u001b[0m\u001b[0;34m\u001b[0m\u001b[0m\n\u001b[0m\u001b[1;32m      9\u001b[0m \u001b[0;32mimport\u001b[0m \u001b[0mtorch\u001b[0m\u001b[0;34m.\u001b[0m\u001b[0mnn\u001b[0m \u001b[0;32mas\u001b[0m \u001b[0mnn\u001b[0m\u001b[0;34m\u001b[0m\u001b[0;34m\u001b[0m\u001b[0m\n\u001b[1;32m     10\u001b[0m \u001b[0;32mimport\u001b[0m \u001b[0mtorch\u001b[0m\u001b[0;34m.\u001b[0m\u001b[0moptim\u001b[0m \u001b[0;32mas\u001b[0m \u001b[0moptim\u001b[0m\u001b[0;34m\u001b[0m\u001b[0;34m\u001b[0m\u001b[0m\n",
      "\u001b[0;31mModuleNotFoundError\u001b[0m: No module named 'torch'"
     ]
    }
   ],
   "source": [
    "%matplotlib inline\n",
    "import sys\n",
    "import numpy as np\n",
    "import pandas as pd\n",
    "import matplotlib.pyplot as plt\n",
    "\n",
    "# importing torch & its classes\n",
    "import torch\n",
    "import torch.nn as nn\n",
    "import torch.optim as optim\n",
    "import torch.utils.data\n",
    "from torch.autograd import Variable\n",
    "\n",
    "from torch.utils.data import TensorDataset\n",
    "from torch.utils.data import DataLoader\n",
    "\n",
    "# importing matplotlib for plotting graphs\n",
    "import matplotlib.style as ms\n",
    "import matplotlib as mpl\n",
    "from mpl_toolkits.mplot3d import Axes3D\n",
    "\n",
    "# importing fastai lib\n",
    "from fastai import data_block, basic_train, basic_data\n",
    "from fastai.callbacks import ActivationStats, LossMetrics\n",
    "import fastai\n",
    "from fastai import train as tr\n",
    "\n"
   ]
  },
  {
   "cell_type": "code",
   "execution_count": null,
   "metadata": {
    "colab": {
     "base_uri": "https://localhost:8080/",
     "height": 34
    },
    "colab_type": "code",
    "id": "XaRELXaToDbs",
    "outputId": "eaadfff5-4c0f-42e1-f624-facd21ac69b9"
   },
   "outputs": [],
   "source": [
    "# check if cuda available\n",
    "torch.cuda.is_available()"
   ]
  },
  {
   "cell_type": "code",
   "execution_count": null,
   "metadata": {
    "colab": {
     "base_uri": "https://localhost:8080/",
     "height": 363
    },
    "colab_type": "code",
    "id": "L0AZ-ZABoDbv",
    "outputId": "61e4d8d2-a75f-4b04-f2c9-b6ffab55a6b0"
   },
   "outputs": [],
   "source": [
    "# reading train & test data from repective files\n",
    "train = pd.read_pickle('all_jets_train_4D_100_percent.pkl')\n",
    "test = pd.read_pickle('all_jets_test_4D_100_percent.pkl')\n",
    "n_features = len(train.loc[0]) #number of features (4 here)\n",
    "train.head(10)"
   ]
  },
  {
   "cell_type": "code",
   "execution_count": null,
   "metadata": {
    "colab": {},
    "colab_type": "code",
    "id": "KmDB9O_5oDby"
   },
   "outputs": [],
   "source": [
    "# getting train & test data as Tensor Dataset\n",
    "\n",
    "train_mean = train.mean()\n",
    "train_std = train.std()\n",
    "\n",
    "train = (train - train_mean) / train_std\n",
    "test = (test - train_mean) / train_std\n",
    "\n",
    "train_x = train\n",
    "test_x = test\n",
    "train_y = train_x  # y = x since we are building and AE\n",
    "test_y = test_x\n",
    "\n",
    "# train & validation datasets\n",
    "train_ds = TensorDataset(torch.tensor(train_x.values, dtype=torch.float32), torch.tensor(train_y.values, dtype=torch.float32))\n",
    "valid_ds = TensorDataset(torch.tensor(test_x.values, dtype=torch.float32), torch.tensor(test_y.values, dtype=torch.float32))\n"
   ]
  },
  {
   "cell_type": "code",
   "execution_count": null,
   "metadata": {
    "colab": {},
    "colab_type": "code",
    "id": "IqGzez3LoDb0"
   },
   "outputs": [],
   "source": [
    "# function to load data as DataBunch from Tensor Dataset\n",
    "def get_data(train_ds, valid_ds, bs):\n",
    "    return (\n",
    "        DataLoader(train_ds, batch_size=bs, shuffle=True),\n",
    "        DataLoader(valid_ds, batch_size=bs * 2),\n",
    "    )"
   ]
  },
  {
   "cell_type": "code",
   "execution_count": null,
   "metadata": {
    "colab": {},
    "colab_type": "code",
    "id": "MvwVKn_moDb3"
   },
   "outputs": [],
   "source": [
    "train_dl, valid_dl = get_data(train_ds, valid_ds, bs=256)"
   ]
  },
  {
   "cell_type": "code",
   "execution_count": null,
   "metadata": {
    "colab": {},
    "colab_type": "code",
    "id": "JySMJj1PoDb5"
   },
   "outputs": [],
   "source": [
    "db = basic_data.DataBunch(train_dl, valid_dl)"
   ]
  },
  {
   "cell_type": "code",
   "execution_count": null,
   "metadata": {
    "colab": {},
    "colab_type": "code",
    "id": "TVFnC9wmoDb8"
   },
   "outputs": [],
   "source": [
    "# NET for 4D to 3D\n",
    "class AE_3D_200(nn.Module):\n",
    "    def __init__(self, n_features=4):\n",
    "        super(AE_3D_200, self).__init__()\n",
    "        self.en1 = nn.Linear(n_features, 200)\n",
    "        self.en2 = nn.Linear(200, 100)\n",
    "        self.en3 = nn.Linear(100, 50)\n",
    "        self.en4 = nn.Linear(50, 3)\n",
    "        self.de1 = nn.Linear(3, 50)\n",
    "        self.de2 = nn.Linear(50, 100)\n",
    "        self.de3 = nn.Linear(100, 200)\n",
    "        self.de4 = nn.Linear(200, n_features)\n",
    "        # using tanh activation function\n",
    "        self.tanh = nn.Tanh()\n",
    "\n",
    "    def encode(self, x):\n",
    "      # to get encoded data\n",
    "        return self.en4(self.tanh(self.en3(self.tanh(self.en2(self.tanh(self.en1(x)))))))\n",
    "\n",
    "    def decode(self, x):\n",
    "      # to get decoded data\n",
    "        return self.de4(self.tanh(self.de3(self.tanh(self.de2(self.tanh(self.de1(self.tanh(x))))))))\n",
    "\n",
    "    def forward(self, x):\n",
    "        z = self.encode(x)\n",
    "        return self.decode(z)\n",
    "\n",
    "    def describe(self):\n",
    "        return 'in-200-100-50-3-50-100-200-out'\n",
    "\n",
    "\n",
    "class RMSELoss(torch.nn.Module):\n",
    "    def __init__(self):\n",
    "        super(RMSELoss,self).__init__()\n",
    "\n",
    "    def forward(self,x,y):\n",
    "        criterion = nn.MSELoss()\n",
    "        loss = torch.sqrt(criterion(x, y))\n",
    "        return loss\n",
    "\n",
    "# Loss Function\n",
    "loss_func = RMSELoss()\n"
   ]
  },
  {
   "cell_type": "code",
   "execution_count": null,
   "metadata": {
    "colab": {},
    "colab_type": "code",
    "id": "kzg_7CuDoDcA"
   },
   "outputs": [],
   "source": [
    "bn_wd = False  # Don't use weight decay fpr batchnorm layers\n",
    "true_wd = True  # wd will be used for all optimizers\n",
    "wd = 1e-6\n",
    "\n",
    "# our model\n",
    "model = AE_3D_200()\n",
    "learn = basic_train.Learner(data=db, model=model, loss_func=loss_func, wd=wd, callback_fns=ActivationStats, bn_wd=bn_wd, true_wd=true_wd)"
   ]
  },
  {
   "cell_type": "code",
   "execution_count": null,
   "metadata": {
    "colab": {},
    "colab_type": "code",
    "id": "3E0JmP-YoDcD"
   },
   "outputs": [],
   "source": [
    "# to find learning rate for our model\n",
    "tr.lr_find(learn)"
   ]
  },
  {
   "cell_type": "code",
   "execution_count": null,
   "metadata": {
    "colab": {},
    "colab_type": "code",
    "id": "VSd8l_51gBXM"
   },
   "outputs": [],
   "source": [
    "# plot the learning rate\n",
    "learn.recorder.plot()"
   ]
  },
  {
   "cell_type": "code",
   "execution_count": null,
   "metadata": {
    "colab": {},
    "colab_type": "code",
    "id": "AnSVmhtqoDcF"
   },
   "outputs": [],
   "source": [
    "# we choose learning rate as 1e-6\n",
    "lr = 1e-6\n",
    "# fit our model\n",
    "learn.fit(1000, lr=lr, wd=wd)"
   ]
  },
  {
   "cell_type": "code",
   "execution_count": null,
   "metadata": {
    "colab": {},
    "colab_type": "code",
    "id": "ZPCbGVDUNwY5"
   },
   "outputs": [],
   "source": [
    "# to plot the losses\n",
    "learn.recorder.plot_losses()"
   ]
  },
  {
   "cell_type": "code",
   "execution_count": null,
   "metadata": {
    "colab": {
     "base_uri": "https://localhost:8080/",
     "height": 645
    },
    "colab_type": "code",
    "id": "N3-dVgZ3oDcH",
    "outputId": "b26ea0a4-9538-4c8e-c98c-db7343aacb24"
   },
   "outputs": [],
   "source": [
    "# Saving our model\n",
    "learn.save('AE_3D_200_trained')\n"
   ]
  },
  {
   "cell_type": "code",
   "execution_count": null,
   "metadata": {
    "colab": {},
    "colab_type": "code",
    "id": "ErL9G1i7oDcJ"
   },
   "outputs": [],
   "source": [
    "# validating\n",
    "learn.validate()"
   ]
  },
  {
   "cell_type": "code",
   "execution_count": null,
   "metadata": {
    "colab": {
     "base_uri": "https://localhost:8080/",
     "height": 1000
    },
    "colab_type": "code",
    "id": "bk6yoLItoDcL",
    "outputId": "95a4fe5d-d784-4480-dc5c-08ed67cc1dc0"
   },
   "outputs": [],
   "source": [
    "# Plotting Graphs for loss percentage\n",
    "\n",
    "unit_list = ['[GeV]', '[rad]', '[rad]', '[GeV]']\n",
    "variable_list = [r'$p_T$', r'$\\eta$', r'$\\phi$', r'$E$']\n",
    "line_style = ['--', '-']\n",
    "colors = ['orange', 'c']\n",
    "markers = ['*', 's']\n",
    "\n",
    "learn.model.to('cpu')\n",
    "idxs = (0, 100000)  # Choose events to compare\n",
    "\n",
    "# getting the output data\n",
    "data = torch.tensor(test_x[idxs[0]:idxs[1]].values, dtype = torch.float32)\n",
    "pred = learn.model(data).detach().numpy()\n",
    "pred = np.multiply(pred, train_std.values)\n",
    "pred = np.add(pred, train_mean.values)\n",
    "# getting the input data\n",
    "data = np.multiply(data, train_std.values)\n",
    "data = np.add(data, train_mean.values)\n",
    "\n",
    "alph = 0.8\n",
    "n_bins = 50\n",
    "\n",
    "from scipy import stats\n",
    "residual_strings = [r'$(m_{out} - m_{in}) / m_{in}$',\n",
    "                        r'$(p_{T,out} - p_{T,in}) / p_{T,in}$',\n",
    "                        r'$(\\phi_{out} - \\phi_{in}) / \\phi_{in}$',\n",
    "                        r'$(E_{out} - E_{in}) / E_{in}$']\n",
    "# formula used for plot \n",
    "residuals = (pred - data.detach().numpy()) / data.detach().numpy()\n",
    "range = (-.4, .4)\n",
    "for kk in np.arange(4):\n",
    "    plt.figure()\n",
    "    # Plotting the graph\n",
    "    n_hist_pred, bin_edges, _ = plt.hist(residuals[:, kk], label='Residuals', linestyle=line_style[0], alpha=alph, bins=100, range=range)\n",
    "   \n",
    "    plt.suptitle('Residuals of %s' % train.columns[kk])\n",
    "    plt.xlabel(residual_strings[kk]) \n",
    "    plt.ylabel('Number of jets')\n",
    "    std = np.std(residuals[:, kk])\n",
    "    std_err = np.nanstd(residuals[:, kk], axis=None, ddof=0) / np.sqrt(2 * len(residuals[:, kk]))\n",
    "    mean = np.nanmean(residuals[:, kk])\n",
    "    sem = stats.sem(residuals[:, kk], nan_policy='omit')\n",
    "    ax = plt.gca()\n",
    "    plt.text(.75, .8, 'Mean = %f$\\pm$%f\\n$\\sigma$ = %f$\\pm$%f' % (mean, sem, std, std_err), bbox={'facecolor': 'white', 'alpha': 0.7, 'pad': 10},\n",
    "             horizontalalignment='center', verticalalignment='center', transform=ax.transAxes, fontsize=18)\n",
    "    fig_name = 'trainforever_residual_%s' % train.columns[kk]\n",
    "    #plt.savefig(curr_save_folder + fig_name)"
   ]
  },
  {
   "cell_type": "code",
   "execution_count": null,
   "metadata": {
    "colab": {
     "base_uri": "https://localhost:8080/",
     "height": 319
    },
    "colab_type": "code",
    "id": "Ov7IenjWFkmp",
    "outputId": "bfbfad87-7376-43cd-c456-1b749c340b9f"
   },
   "outputs": [],
   "source": [
    "# Plotting the first 1000 encoded OR 3D data\n",
    "\n",
    "learn.model.to('cpu')\n",
    "idxs = (0, 1000)  # Choose events to compare\n",
    "data = torch.tensor(test_x[idxs[0]:idxs[1]].values, dtype = torch.float32)\n",
    "threed = learn.model.encode(data).detach().numpy()\n",
    "\n",
    "fig = plt.figure()\n",
    "ax = Axes3D(fig)\n",
    "\n",
    "x = threed[:,0]\n",
    "y = threed[:,1]\n",
    "z = threed[:,2]\n",
    "\n",
    "ax.scatter(x, y, z, marker='x')\n",
    "\n",
    "ax.set_xlabel('X Label')\n",
    "ax.set_ylabel('Y Label')\n",
    "ax.set_zlabel('Z Label')\n",
    "\n",
    "plt.show()"
   ]
  }
 ],
 "metadata": {
  "accelerator": "GPU",
  "colab": {
   "collapsed_sections": [],
   "name": "Copy of Copy_of_Copy_of_Autoencoder.ipynb",
   "provenance": []
  },
  "kernelspec": {
   "display_name": "Python 3",
   "language": "python",
   "name": "python3"
  },
  "language_info": {
   "codemirror_mode": {
    "name": "ipython",
    "version": 3
   },
   "file_extension": ".py",
   "mimetype": "text/x-python",
   "name": "python",
   "nbconvert_exporter": "python",
   "pygments_lexer": "ipython3",
   "version": "3.6.8"
  }
 },
 "nbformat": 4,
 "nbformat_minor": 1
}
